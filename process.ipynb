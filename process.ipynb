{
 "cells": [
  {
   "cell_type": "markdown",
   "metadata": {},
   "source": [
    "### Parse log file"
   ]
  },
  {
   "cell_type": "code",
   "execution_count": 8,
   "metadata": {},
   "outputs": [
    {
     "name": "stdout",
     "output_type": "stream",
     "text": [
      "Parsed log file 'predictions.log' to CSV file 'predictions.csv'\n"
     ]
    }
   ],
   "source": [
    "import re\n",
    "import csv\n",
    "\n",
    "def parse_log_to_csv(log_file, csv_file):\n",
    "    log_pattern = re.compile(\n",
    "        r\"Market prediction for (?P<symbol>\\w+) starting on (?P<start_date>\\d{4}-\\d{2}-\\d{2}): (?P<market_prediction>[\\w\\s]+), End Value = (?P<end_value>[\\d\\.]+), Sharpe Ratio = (?P<sharpe_ratio>[\\-\\d\\.]+)\"\n",
    "    )\n",
    "\n",
    "    with open(log_file, 'r') as log:\n",
    "        lines = log.readlines()\n",
    "\n",
    "    parsed_data = []\n",
    "    for line in lines:\n",
    "        match = log_pattern.search(line)\n",
    "        if match:\n",
    "            parsed_data.append(match.groupdict())\n",
    "\n",
    "    with open(csv_file, 'w', newline='') as csvfile:\n",
    "        fieldnames = ['symbol', 'start_date', 'market_prediction', 'end_value', 'sharpe_ratio']\n",
    "        writer = csv.DictWriter(csvfile, fieldnames=fieldnames)\n",
    "\n",
    "        writer.writeheader()\n",
    "        writer.writerows(parsed_data)\n",
    "\n",
    "log_file = 'predictions.log'  \n",
    "csv_file = 'predictions.csv'  \n",
    "\n",
    "parse_log_to_csv(log_file, csv_file)\n",
    "print(f\"Parsed log file '{log_file}' to CSV file '{csv_file}'\")\n"
   ]
  },
  {
   "cell_type": "markdown",
   "metadata": {},
   "source": [
    "### Statistics"
   ]
  },
  {
   "cell_type": "code",
   "execution_count": 17,
   "metadata": {},
   "outputs": [
    {
     "name": "stdout",
     "output_type": "stream",
     "text": [
      "                   avg_end_value    avg_mdd  count\n",
      "market_prediction                                 \n",
      "High Volatility      1085.714769  22.633266    367\n",
      "\n",
      "Average end value and average max_drawdown for all predictions:\n",
      "Average end value: 1085.7147688340594\n",
      "Average max_drawdown: 22.633266295141688\n"
     ]
    }
   ],
   "source": [
    "# Calculate the average end value and average Sharpe ratio for each market prediction and also calculate the average end value and average Sharpe ratio for all predictions\n",
    "\n",
    "import pandas as pd\n",
    "\n",
    "df = pd.read_csv('strategy_results1.csv')\n",
    "\n",
    "# 將日期欄位轉換為 datetime 格式 (假設日期欄位名稱為 'start_date')\n",
    "df['start_date'] = pd.to_datetime(df['start_date'])\n",
    "\n",
    "# 篩選日期在 2024 年 3 月 31 日之前的資料\n",
    "filtered_df = df[df['start_date'] <= '2024-03-31']\n",
    "#df = filtered_df\n",
    "\n",
    "grouped = df.groupby('market_prediction').agg(\n",
    "    avg_end_value=('end_value', 'mean'),\n",
    "    avg_mdd=('max_drawdown', 'mean'),\n",
    "    count=('market_prediction', 'size')\n",
    ")\n",
    "\n",
    "all_avg_end_value = df['end_value'].mean()\n",
    "all_avg_sharpe_ratio = df['max_drawdown'].mean()\n",
    "\n",
    "print(grouped)\n",
    "print(\"\\nAverage end value and average max_drawdown for all predictions:\")\n",
    "print(f\"Average end value: {all_avg_end_value}\")\n",
    "print(f\"Average max_drawdown: {all_avg_sharpe_ratio}\")\n",
    "\n",
    "\n"
   ]
  },
  {
   "cell_type": "code",
   "execution_count": null,
   "metadata": {},
   "outputs": [],
   "source": []
  },
  {
   "cell_type": "code",
   "execution_count": null,
   "metadata": {},
   "outputs": [],
   "source": []
  }
 ],
 "metadata": {
  "kernelspec": {
   "display_name": "Python 3",
   "language": "python",
   "name": "python3"
  },
  "language_info": {
   "codemirror_mode": {
    "name": "ipython",
    "version": 3
   },
   "file_extension": ".py",
   "mimetype": "text/x-python",
   "name": "python",
   "nbconvert_exporter": "python",
   "pygments_lexer": "ipython3",
   "version": "3.8.8"
  }
 },
 "nbformat": 4,
 "nbformat_minor": 2
}
